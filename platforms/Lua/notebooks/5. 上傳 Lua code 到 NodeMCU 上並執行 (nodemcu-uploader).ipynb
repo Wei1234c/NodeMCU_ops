{
 "cells": [
  {
   "cell_type": "markdown",
   "metadata": {},
   "source": [
    "# 5. 上傳 Lua code 到 NodeMCU 上並執行 (nodemcu-uploader)\n",
    "https://nodemcu.readthedocs.io/en/master/en/upload/  \n",
    "https://github.com/kmpm/nodemcu-uploader  \n",
    "https://github.com/kmpm/nodemcu-uploader/blob/master/doc/USAGE.md  "
   ]
  },
  {
   "cell_type": "markdown",
   "metadata": {},
   "source": [
    "### 安裝 nodemcu-uploader\n",
    "#### pip install nodemcu-uploader  \n",
    "https://github.com/kmpm/nodemcu-uploader"
   ]
  },
  {
   "cell_type": "code",
   "execution_count": null,
   "metadata": {
    "collapsed": false
   },
   "outputs": [],
   "source": [
    "!python ..\\..\\..\\tools\\nodemcu-uploader\\nodemcu-uploader.py --port com15 --start_baud 115200 --baud 115200 upload ..\\codes\\init.lua"
   ]
  }
 ],
 "metadata": {
  "anaconda-cloud": {},
  "kernelspec": {
   "display_name": "Python [default]",
   "language": "python",
   "name": "python3"
  },
  "language_info": {
   "codemirror_mode": {
    "name": "ipython",
    "version": 3
   },
   "file_extension": ".py",
   "mimetype": "text/x-python",
   "name": "python",
   "nbconvert_exporter": "python",
   "pygments_lexer": "ipython3",
   "version": "3.5.1"
  }
 },
 "nbformat": 4,
 "nbformat_minor": 0
}
