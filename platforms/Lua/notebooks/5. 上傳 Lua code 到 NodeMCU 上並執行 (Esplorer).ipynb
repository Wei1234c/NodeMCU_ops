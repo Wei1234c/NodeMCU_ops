{
 "cells": [
  {
   "cell_type": "markdown",
   "metadata": {},
   "source": [
    "# 5. 上傳 Lua code 到 NodeMCU 上並執行 (Esplorer)\n",
    "https://esp8266.ru/esplorer/  \n",
    "https://nodemcu.readthedocs.io/en/master/en/upload/  "
   ]
  },
  {
   "cell_type": "markdown",
   "metadata": {},
   "source": [
    "### Download Esplorer\n",
    "https://esp8266.ru/esplorer/\n",
    "http://esp8266.ru/esplorer-latest/?f=ESPlorer.zip"
   ]
  },
  {
   "cell_type": "markdown",
   "metadata": {},
   "source": [
    "### Create code files, upload them to NodeMCU with Esplorer "
   ]
  },
  {
   "cell_type": "code",
   "execution_count": null,
   "metadata": {
    "collapsed": true
   },
   "outputs": [],
   "source": [
    "-- init.lua\n",
    "\n",
    "-- Greeting\n",
    "print(\"Hello World!\")\n",
    "\n",
    "-- Connect to WiFi\n",
    "dofile (\"wifi.lua\")\n",
    "\n",
    "-- Start Web server\n",
    "dofile (\"web_server.lua\")"
   ]
  },
  {
   "cell_type": "code",
   "execution_count": null,
   "metadata": {
    "collapsed": true
   },
   "outputs": [],
   "source": [
    "-- wifi.lua\n",
    "\n",
    "-- Connect to WiFi\n",
    "wifi.setmode(wifi.STATION)\n",
    "wifi.sta.config(\"Lin_841\",\"51557010\")\n",
    "wifi.sta.connect()\n",
    "ip = wifi.sta.getip()\n",
    "print(ip)"
   ]
  },
  {
   "cell_type": "code",
   "execution_count": null,
   "metadata": {
    "collapsed": true
   },
   "outputs": [],
   "source": [
    "-- web_server.lua\n",
    "\n",
    "-- http://randomnerdtutorials.com/esp8266-web-server/\n",
    "-- Web Server\n",
    "led1 = 3\n",
    "led2 = 4\n",
    "gpio.mode(led1, gpio.OUTPUT)\n",
    "gpio.mode(led2, gpio.OUTPUT)\n",
    "srv=net.createServer(net.TCP)\n",
    "srv:listen(80,function(conn)\n",
    "    conn:on(\"receive\", function(client,request)\n",
    "        local buf = \"\";\n",
    "        local _, _, method, path, vars = string.find(request, \"([A-Z]+) (.+)?(.+) HTTP\");\n",
    "        if(method == nil)then\n",
    "            _, _, method, path = string.find(request, \"([A-Z]+) (.+) HTTP\");\n",
    "        end\n",
    "        local _GET = {}\n",
    "        if (vars ~= nil)then\n",
    "            for k, v in string.gmatch(vars, \"(%w+)=(%w+)&*\") do\n",
    "                _GET[k] = v\n",
    "            end\n",
    "        end\n",
    "        buf = buf..\"<h1> ESP8266 Web Server</h1>\";\n",
    "        buf = buf..\"<p>GPIO0 <a href=\\\"?pin=ON1\\\"><button>ON</button></a>&nbsp;<a href=\\\"?pin=OFF1\\\"><button>OFF</button></a></p>\";\n",
    "        buf = buf..\"<p>GPIO2 <a href=\\\"?pin=ON2\\\"><button>ON</button></a>&nbsp;<a href=\\\"?pin=OFF2\\\"><button>OFF</button></a></p>\";\n",
    "        local _on,_off = \"\",\"\"\n",
    "        if(_GET.pin == \"ON1\")then\n",
    "              gpio.write(led1, gpio.HIGH);\n",
    "        elseif(_GET.pin == \"OFF1\")then\n",
    "              gpio.write(led1, gpio.LOW);\n",
    "        elseif(_GET.pin == \"ON2\")then\n",
    "              gpio.write(led2, gpio.HIGH);\n",
    "        elseif(_GET.pin == \"OFF2\")then\n",
    "              gpio.write(led2, gpio.LOW);\n",
    "        end\n",
    "        client:send(buf);\n",
    "        client:close();\n",
    "        collectgarbage();\n",
    "    end)\n",
    "end)"
   ]
  },
  {
   "cell_type": "markdown",
   "metadata": {},
   "source": [
    "### Browse the web\n",
    "http://192.168.0.116/"
   ]
  }
 ],
 "metadata": {
  "anaconda-cloud": {},
  "kernelspec": {
   "display_name": "Python [default]",
   "language": "python",
   "name": "python3"
  },
  "language_info": {
   "codemirror_mode": {
    "name": "ipython",
    "version": 3
   },
   "file_extension": ".py",
   "mimetype": "text/x-python",
   "name": "python",
   "nbconvert_exporter": "python",
   "pygments_lexer": "ipython3",
   "version": "3.5.1"
  }
 },
 "nbformat": 4,
 "nbformat_minor": 0
}
