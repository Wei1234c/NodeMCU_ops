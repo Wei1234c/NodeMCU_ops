{
 "cells": [
  {
   "cell_type": "markdown",
   "metadata": {},
   "source": [
    "# 3. 上傳 MicroPython code 到 NodeMCU 上並執行\n",
    "#### http://maxlai.cc/2016/11/29/micropython-how-to-upload-program-and-run-code/\n",
    "#### https://docs.micropython.org/en/latest/esp8266/esp8266/tutorial/\n",
    "#### https://github.com/cclai999/micropython-lab"
   ]
  },
  {
   "cell_type": "markdown",
   "metadata": {},
   "source": [
    "如果ESP8266開發板有1MB以上的Flash，MicroPython 啟動後會配置一個內部的 file system，可以將程式碼儲存在file system 中。\n",
    "\n",
    "當ESP8266啟動時會自行載入特定名稱的程式執行\u000b",
    "(就像是 Arduino 執行 Arduino sketch一樣)，開機之後系統預設會\n",
    "- 先執行 boot.py \n",
    "- 然後再執行 main.py 。"
   ]
  },
  {
   "cell_type": "code",
   "execution_count": 10,
   "metadata": {
    "collapsed": true
   },
   "outputs": [],
   "source": [
    "import os"
   ]
  },
  {
   "cell_type": "markdown",
   "metadata": {},
   "source": [
    "### 安裝 ampy ( Adafruit MicroPython Tool )\n",
    "#### pip install adafruit-ampy\n",
    "https://github.com/adafruit/ampy"
   ]
  },
  {
   "cell_type": "code",
   "execution_count": 11,
   "metadata": {
    "collapsed": false
   },
   "outputs": [
    {
     "name": "stdout",
     "output_type": "stream",
     "text": [
      "Usage: ampy [OPTIONS] COMMAND [ARGS]...\n",
      "\n",
      "  ampy - Adafruit MicroPython Tool\n",
      "\n",
      "  Ampy is a tool to control MicroPython boards over a serial connection.\n",
      "  Using ampy you can manipulate files on the board's internal filesystem and\n",
      "  even run scripts.\n",
      "\n",
      "Options:\n",
      "  -p, --port PORT  Name of serial port for connected board.  Can optionally\n",
      "                   specify with AMPY_PORT environemnt variable.  [required]\n",
      "  -b, --baud BAUD  Baud rate for the serial connection (default 115200).  Can\n",
      "                   optionally specify with AMPY_BAUD environment variable.\n",
      "  --version        Show the version and exit.\n",
      "  --help           Show this message and exit.\n",
      "\n",
      "Commands:\n",
      "  get    Retrieve a file from the board.\n",
      "  ls     List contents of a directory on the board.\n",
      "  mkdir  Create a directory on the board.\n",
      "  put    Put a file on the board.\n",
      "  reset  Perform soft reset/reboot of the board.\n",
      "  rm     Remove a file from the board.\n",
      "  run    Run a script and print its output.\n"
     ]
    }
   ],
   "source": [
    "!ampy --help"
   ]
  },
  {
   "cell_type": "markdown",
   "metadata": {},
   "source": [
    "### 設定COM port"
   ]
  },
  {
   "cell_type": "code",
   "execution_count": 12,
   "metadata": {
    "collapsed": true
   },
   "outputs": [],
   "source": [
    "com_port = 'COM15'\n",
    "# com_port = 'COM16'"
   ]
  },
  {
   "cell_type": "markdown",
   "metadata": {},
   "source": [
    "### 執行MicroPython程式碼 (使用 'run'，只傳code, 不在NodeMCU上面建立檔案)"
   ]
  },
  {
   "cell_type": "code",
   "execution_count": 13,
   "metadata": {
    "collapsed": false
   },
   "outputs": [],
   "source": [
    "# !ampy --port {com_port} run ..\\codes\\blink10times.py"
   ]
  },
  {
   "cell_type": "markdown",
   "metadata": {},
   "source": [
    "### 刪除檔案"
   ]
  },
  {
   "cell_type": "code",
   "execution_count": 14,
   "metadata": {
    "collapsed": false
   },
   "outputs": [
    {
     "data": {
      "text/plain": [
       "['boot.py', 'webrepl_cfg.py']"
      ]
     },
     "execution_count": 14,
     "metadata": {},
     "output_type": "execute_result"
    }
   ],
   "source": [
    "files = !ampy --port {com_port} ls\n",
    "files"
   ]
  },
  {
   "cell_type": "code",
   "execution_count": 15,
   "metadata": {
    "collapsed": false
   },
   "outputs": [
    {
     "name": "stdout",
     "output_type": "stream",
     "text": [
      "Deleting boot.py\n",
      "Deleting webrepl_cfg.py\n"
     ]
    }
   ],
   "source": [
    "# 清空\n",
    "for file in files:\n",
    "    print('Deleting {0}'.format(file))\n",
    "    %sx ampy --port {com_port} rm {file}"
   ]
  },
  {
   "cell_type": "markdown",
   "metadata": {},
   "source": [
    "### Copy 檔案到開發板"
   ]
  },
  {
   "cell_type": "code",
   "execution_count": 16,
   "metadata": {
    "collapsed": false
   },
   "outputs": [],
   "source": [
    "# boot.py\n",
    "!ampy --port {com_port} put ..\\codes\\boot_default.py boot.py"
   ]
  },
  {
   "cell_type": "code",
   "execution_count": 17,
   "metadata": {
    "collapsed": false
   },
   "outputs": [],
   "source": [
    "# webrepl_cfg.py\n",
    "!ampy --port {com_port} put ..\\codes\\webrepl_cfg.py"
   ]
  },
  {
   "cell_type": "code",
   "execution_count": 18,
   "metadata": {
    "collapsed": false
   },
   "outputs": [],
   "source": [
    "# main.py\n",
    "# !ampy --port {com_port} put ..\\codes\\main.py"
   ]
  },
  {
   "cell_type": "code",
   "execution_count": 19,
   "metadata": {
    "collapsed": false
   },
   "outputs": [],
   "source": [
    "# main.py\n",
    "# !ampy --port {com_port} put ..\\codes\\main_default.py main.py"
   ]
  },
  {
   "cell_type": "code",
   "execution_count": 20,
   "metadata": {
    "collapsed": false
   },
   "outputs": [],
   "source": [
    "# main.py\n",
    "# !ampy --port {com_port} put ..\\codes\\web_server.py main.py"
   ]
  },
  {
   "cell_type": "code",
   "execution_count": 21,
   "metadata": {
    "collapsed": true
   },
   "outputs": [],
   "source": [
    "# wifi.py\n",
    "# !ampy --port {com_port} put ..\\codes\\wifi.py"
   ]
  },
  {
   "cell_type": "code",
   "execution_count": 22,
   "metadata": {
    "collapsed": true
   },
   "outputs": [],
   "source": [
    "# led.py\n",
    "# !ampy --port {com_port} put ..\\codes\\led.py"
   ]
  },
  {
   "cell_type": "markdown",
   "metadata": {},
   "source": [
    "### 列出檔案"
   ]
  },
  {
   "cell_type": "code",
   "execution_count": 23,
   "metadata": {
    "collapsed": false
   },
   "outputs": [
    {
     "name": "stdout",
     "output_type": "stream",
     "text": [
      "boot.py\n",
      "webrepl_cfg.py\n"
     ]
    }
   ],
   "source": [
    "!ampy --port {com_port} ls"
   ]
  },
  {
   "cell_type": "markdown",
   "metadata": {},
   "source": [
    "### 檢查檔案內容"
   ]
  },
  {
   "cell_type": "code",
   "execution_count": 24,
   "metadata": {
    "collapsed": false
   },
   "outputs": [],
   "source": [
    "# !ampy --port {com_port} get webrepl_cfg.py"
   ]
  },
  {
   "cell_type": "code",
   "execution_count": 25,
   "metadata": {
    "collapsed": false
   },
   "outputs": [
    {
     "name": "stdout",
     "output_type": "stream",
     "text": [
      "# This file is executed on every boot (including wake-boot from deepsleep)\n",
      "\n",
      "\n",
      "\n",
      "#import esp\n",
      "\n",
      "#esp.osdebug(None)\n",
      "\n",
      "\n",
      "\n",
      "# import wifi\n",
      "\n",
      "\n",
      "\n",
      "import webrepl\n",
      "\n",
      "webrepl.start()\n",
      "\n",
      "\n",
      "\n",
      "import gc\n",
      "\n",
      "gc.collect()\n"
     ]
    }
   ],
   "source": [
    "!ampy --port {com_port} get boot.py"
   ]
  },
  {
   "cell_type": "code",
   "execution_count": 26,
   "metadata": {
    "collapsed": false
   },
   "outputs": [],
   "source": [
    "# !ampy --port {com_port} get main.py"
   ]
  },
  {
   "cell_type": "code",
   "execution_count": 27,
   "metadata": {
    "collapsed": false
   },
   "outputs": [],
   "source": [
    "# !ampy --port {com_port} get wifi.py"
   ]
  },
  {
   "cell_type": "markdown",
   "metadata": {},
   "source": [
    "### 連網測試"
   ]
  },
  {
   "cell_type": "code",
   "execution_count": 28,
   "metadata": {
    "collapsed": true
   },
   "outputs": [],
   "source": [
    "# 連上網路\n",
    "# import network; nic=network.WLAN(network.STA_IF); nic.active(True); nic.connect('SSID','password')"
   ]
  },
  {
   "cell_type": "code",
   "execution_count": 29,
   "metadata": {
    "collapsed": true
   },
   "outputs": [],
   "source": [
    "# 發出 http request\n",
    "# import socket;addr=socket.getaddrinfo('micropython.org',80)[0][-1]\n",
    "# s = socket.socket();s.connect(addr);s.send(b'GET / HTTP/1.1\\r\\nHost: micropython.org\\r\\n\\r\\n');data = s.recv(1000);s.close()"
   ]
  }
 ],
 "metadata": {
  "anaconda-cloud": {},
  "kernelspec": {
   "display_name": "Python [default]",
   "language": "python",
   "name": "python3"
  },
  "language_info": {
   "codemirror_mode": {
    "name": "ipython",
    "version": 3
   },
   "file_extension": ".py",
   "mimetype": "text/x-python",
   "name": "python",
   "nbconvert_exporter": "python",
   "pygments_lexer": "ipython3",
   "version": "3.5.1"
  }
 },
 "nbformat": 4,
 "nbformat_minor": 0
}
