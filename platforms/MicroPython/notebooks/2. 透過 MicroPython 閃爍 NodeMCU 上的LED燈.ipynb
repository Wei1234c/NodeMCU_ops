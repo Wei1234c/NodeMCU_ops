{
 "cells": [
  {
   "cell_type": "markdown",
   "metadata": {},
   "source": [
    "# 2. 透過 MicroPython 閃爍 NodeMCU 上的LED燈\n",
    "##### http://maxlai.cc/2016/10/22/micropython-lab1-blink-led/"
   ]
  },
  {
   "cell_type": "code",
   "execution_count": null,
   "metadata": {
    "collapsed": true
   },
   "outputs": [],
   "source": [
    "# machine 代表 NodeMCU\n",
    "import machine\n",
    "import time\n",
    "\n",
    "# NodeMCU內建的LED GPIO pin number 是 2, 利用 machine.Pin 建立一個GPIO物件 LED 並設定作為輸出\n",
    "LED = machine.Pin(2, machine.Pin.OUT)\n",
    "\n",
    "# NodeMCU內建的LED pin，value=HIGH 是關閉, value=LOW 是點亮\n",
    "LED.high() #關閉LED\n",
    "LED.low()  #點亮LED\n",
    "\n",
    "# 測試讓LED閃爍十遍\n",
    "for i in range(10):\n",
    "    LED.low()\n",
    "    time.sleep(0.5)\n",
    "    LED.high()\n",
    "    time.sleep(0.5)"
   ]
  }
 ],
 "metadata": {
  "anaconda-cloud": {},
  "kernelspec": {
   "display_name": "Python [default]",
   "language": "python",
   "name": "python3"
  },
  "language_info": {
   "codemirror_mode": {
    "name": "ipython",
    "version": 3
   },
   "file_extension": ".py",
   "mimetype": "text/x-python",
   "name": "python",
   "nbconvert_exporter": "python",
   "pygments_lexer": "ipython3",
   "version": "3.5.1"
  }
 },
 "nbformat": 4,
 "nbformat_minor": 0
}
