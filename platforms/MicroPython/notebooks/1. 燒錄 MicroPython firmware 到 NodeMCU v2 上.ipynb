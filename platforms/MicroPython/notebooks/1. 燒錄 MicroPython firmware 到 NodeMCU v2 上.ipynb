{
 "cells": [
  {
   "cell_type": "markdown",
   "metadata": {},
   "source": [
    "# 1. 燒錄 MicroPython firmware 到 NodeMCU v2 上\n",
    "https://docs.micropython.org/en/latest/esp8266/esp8266/tutorial/  \n",
    "http://docs.micropython.org/en/latest/esp8266/esp8266/tutorial/intro.html#deploying-the-firmware  \n",
    "http://maxlai.cc/2016/09/12/running-micropython-on-nodemcu/  "
   ]
  },
  {
   "cell_type": "markdown",
   "metadata": {},
   "source": [
    "### Download MicroPython firmware\n",
    "http://micropython.org/download/#esp8266  "
   ]
  },
  {
   "cell_type": "markdown",
   "metadata": {},
   "source": [
    "### Install PySerial ( pip install pyserial )\n",
    "http://pyserial.sourceforge.net/"
   ]
  },
  {
   "cell_type": "markdown",
   "metadata": {},
   "source": [
    "### Download esptool\n",
    "https://github.com/espressif/esptool  \n",
    "#### 用 pip 安裝會遇到問題，直接放到pwd之下即可"
   ]
  },
  {
   "cell_type": "code",
   "execution_count": 1,
   "metadata": {
    "collapsed": false
   },
   "outputs": [
    {
     "name": "stdout",
     "output_type": "stream",
     "text": [
      "usage: esptool [-h] [--port PORT] [--baud BAUD]\n",
      "               {load_ram,dump_mem,read_mem,write_mem,write_flash,run,image_info,make_image,elf2image,read_mac,chip_id,flash_id,read_flash,verify_flash,erase_flash,version}\n",
      "               ...\n",
      "\n",
      "esptool.py v1.3-dev - ESP8266 ROM Bootloader Utility\n",
      "\n",
      "positional arguments:\n",
      "  {load_ram,dump_mem,read_mem,write_mem,write_flash,run,image_info,make_image,elf2image,read_mac,chip_id,flash_id,read_flash,verify_flash,erase_flash,version}\n",
      "                        Run esptool {command} -h for additional help\n",
      "    load_ram            Download an image to RAM and execute\n",
      "    dump_mem            Dump arbitrary memory to disk\n",
      "    read_mem            Read arbitrary memory location\n",
      "    write_mem           Read-modify-write to arbitrary memory location\n",
      "    write_flash         Write a binary blob to flash\n",
      "    run                 Run application code in flash\n",
      "    image_info          Dump headers from an application image\n",
      "    make_image          Create an application image from binary files\n",
      "    elf2image           Create an application image from ELF file\n",
      "    read_mac            Read MAC address from OTP ROM\n",
      "    chip_id             Read Chip ID from OTP ROM\n",
      "    flash_id            Read SPI flash manufacturer and device ID\n",
      "    read_flash          Read SPI flash content\n",
      "    verify_flash        Verify a binary blob against flash\n",
      "    erase_flash         Perform Chip Erase on SPI flash\n",
      "    version             Print esptool version\n",
      "\n",
      "optional arguments:\n",
      "  -h, --help            show this help message and exit\n",
      "  --port PORT, -p PORT  Serial port device\n",
      "  --baud BAUD, -b BAUD  Serial port baud rate used when flashing/reading\n"
     ]
    }
   ],
   "source": [
    "!python ..\\..\\..\\tools\\esptool.py -h"
   ]
  },
  {
   "cell_type": "code",
   "execution_count": 3,
   "metadata": {
    "collapsed": false
   },
   "outputs": [],
   "source": [
    "# import esptool as esp\n",
    "# esp.check_fw()"
   ]
  },
  {
   "cell_type": "markdown",
   "metadata": {},
   "source": [
    "### Upload the firmware"
   ]
  },
  {
   "cell_type": "code",
   "execution_count": 6,
   "metadata": {
    "collapsed": true
   },
   "outputs": [],
   "source": [
    "# !python esptool.py --port <serial-port-of-ESP8266> --baud 115200 write_flash --flash_size=<size> 0x00000 <firmware>.bin"
   ]
  },
  {
   "cell_type": "code",
   "execution_count": 3,
   "metadata": {
    "collapsed": false
   },
   "outputs": [
    {
     "name": "stdout",
     "output_type": "stream",
     "text": [
      "esptool.py v1.3-dev\n",
      "Connecting...\n",
      "Couldn't connect. [<class '__main__.FatalError'>; Timed out waiting for packet header]. Retrying...\n",
      "Manufacturer: e0\n",
      "Device: 4016\n"
     ]
    }
   ],
   "source": [
    "!python ..\\..\\..\\tools\\esptool.py --port COM15 flash_id"
   ]
  },
  {
   "cell_type": "code",
   "execution_count": 4,
   "metadata": {
    "collapsed": false
   },
   "outputs": [
    {
     "name": "stdout",
     "output_type": "stream",
     "text": [
      "esptool.py v1.3-dev\n",
      "Connecting...\n",
      "Couldn't connect. [<class '__main__.FatalError'>; Timed out waiting for packet header]. Retrying...\n",
      "Running Cesanta flasher stub...\n",
      "Erasing flash (this may take a while)...\n",
      "Erase took 0.0 seconds\n"
     ]
    }
   ],
   "source": [
    "# erase_flash\n",
    "!python ..\\..\\..\\tools\\esptool.py --port COM15 erase_flash"
   ]
  },
  {
   "cell_type": "code",
   "execution_count": null,
   "metadata": {
    "collapsed": false
   },
   "outputs": [],
   "source": [
    "!python ..\\..\\..\\tools\\esptool.py --port COM15 --baud 115200 write_flash --flash_size=32m 0x00000 ..\\firmwares\\MicroPython_ESP8266-20170108-v1.8.7.bin"
   ]
  },
  {
   "cell_type": "markdown",
   "metadata": {},
   "source": [
    "### Connect\n",
    "- 用 putty 來連結 MicroPython REPL (read-evaluate-print loop)\n",
    "  - baud rate: 115200\n",
    "- 連接之後就可以看到 Python 的 prompt >>>"
   ]
  }
 ],
 "metadata": {
  "anaconda-cloud": {},
  "kernelspec": {
   "display_name": "Python [default]",
   "language": "python",
   "name": "python3"
  },
  "language_info": {
   "codemirror_mode": {
    "name": "ipython",
    "version": 3
   },
   "file_extension": ".py",
   "mimetype": "text/x-python",
   "name": "python",
   "nbconvert_exporter": "python",
   "pygments_lexer": "ipython3",
   "version": "3.5.1"
  }
 },
 "nbformat": 4,
 "nbformat_minor": 0
}
