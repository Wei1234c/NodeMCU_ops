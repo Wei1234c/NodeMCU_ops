{
 "cells": [
  {
   "cell_type": "markdown",
   "metadata": {},
   "source": [
    "# 6. 燒錄 AI-Thinker AT-command firmware 到 NodeMCU v2 上\n",
    "http://www.ai-thinker.com/html/2016/WIFI_0419/42.html  \n",
    "https://nodemcu.readthedocs.io/en/master/en/flash/  \n",
    "http://www.ai-thinker.com/ "
   ]
  },
  {
   "cell_type": "markdown",
   "metadata": {},
   "source": [
    "### Download firmware\n",
    "http://www.electrodragon.com/w/ESP8266_AT-Command_firmware  \n",
    "http://www.electrodragon.com/w/File:V2.0_AT_Firmware(ESP).zip"
   ]
  },
  {
   "cell_type": "markdown",
   "metadata": {},
   "source": [
    "### Install PySerial ( pip install pyserial )\n",
    "http://pyserial.sourceforge.net/"
   ]
  },
  {
   "cell_type": "markdown",
   "metadata": {},
   "source": [
    "### Download esptool\n",
    "https://github.com/espressif/esptool  \n",
    "#### 用 pip 安裝會遇到問題，直接放到pwd之下即可"
   ]
  },
  {
   "cell_type": "code",
   "execution_count": 6,
   "metadata": {
    "collapsed": false
   },
   "outputs": [
    {
     "name": "stdout",
     "output_type": "stream",
     "text": [
      "usage: esptool [-h] [--port PORT] [--baud BAUD]\n",
      "               {load_ram,dump_mem,read_mem,write_mem,write_flash,run,image_info,make_image,elf2image,read_mac,chip_id,flash_id,read_flash,verify_flash,erase_flash,version}\n",
      "               ...\n",
      "\n",
      "esptool.py v1.3-dev - ESP8266 ROM Bootloader Utility\n",
      "\n",
      "positional arguments:\n",
      "  {load_ram,dump_mem,read_mem,write_mem,write_flash,run,image_info,make_image,elf2image,read_mac,chip_id,flash_id,read_flash,verify_flash,erase_flash,version}\n",
      "                        Run esptool {command} -h for additional help\n",
      "    load_ram            Download an image to RAM and execute\n",
      "    dump_mem            Dump arbitrary memory to disk\n",
      "    read_mem            Read arbitrary memory location\n",
      "    write_mem           Read-modify-write to arbitrary memory location\n",
      "    write_flash         Write a binary blob to flash\n",
      "    run                 Run application code in flash\n",
      "    image_info          Dump headers from an application image\n",
      "    make_image          Create an application image from binary files\n",
      "    elf2image           Create an application image from ELF file\n",
      "    read_mac            Read MAC address from OTP ROM\n",
      "    chip_id             Read Chip ID from OTP ROM\n",
      "    flash_id            Read SPI flash manufacturer and device ID\n",
      "    read_flash          Read SPI flash content\n",
      "    verify_flash        Verify a binary blob against flash\n",
      "    erase_flash         Perform Chip Erase on SPI flash\n",
      "    version             Print esptool version\n",
      "\n",
      "optional arguments:\n",
      "  -h, --help            show this help message and exit\n",
      "  --port PORT, -p PORT  Serial port device\n",
      "  --baud BAUD, -b BAUD  Serial port baud rate used when flashing/reading\n"
     ]
    }
   ],
   "source": [
    "!python ..\\..\\..\\tools\\esptool.py -h"
   ]
  },
  {
   "cell_type": "markdown",
   "metadata": {},
   "source": [
    "### Upload the firmware"
   ]
  },
  {
   "cell_type": "code",
   "execution_count": 6,
   "metadata": {
    "collapsed": true
   },
   "outputs": [],
   "source": [
    "!python ..\\..\\..\\tools\\esptool.py --port COM15 flash_id\n",
    "!python ..\\..\\..\\tools\\esptool.py --port COM15 erase_flash\n",
    "!python ..\\..\\..\\tools\\esptool.py --port COM15 --baud 115200 write_flash -fm dio 0x00000 AiThinker_ESP8266_DIO_32M_32M_20160615_V1.5.4.bin"
   ]
  },
  {
   "cell_type": "markdown",
   "metadata": {},
   "source": [
    "### 使用 AT command 來連接 WiFi\n",
    "\n",
    "AT+CWMODE?\n",
    "\n",
    "> +CWMODE:3  \n",
    "OK  \n",
    "\n",
    "AT+CWJAP=\"Lin_841\",\"XXXXXXXX\"\n",
    ">WIFI DISCONNECT  \n",
    "WIFI CONNECTED  \n",
    "WIFI GOT IP  \n",
    "OK  \n",
    "\n",
    "AT+CIPSTA?\n",
    "\n",
    "> +CIPSTA:ip:\"192.168.0.117\"  \n",
    "+CIPSTA:gateway:\"192.168.0.1\"  \n",
    "+CIPSTA:netmask:\"255.255.255.0\"  \n",
    "OK  \n",
    "\n",
    "AT+CIPSTAMAC?\n",
    ">+CIPSTAMAC:\"5c:cf:XX:XX:XX:XX\"  \n"
   ]
  },
  {
   "cell_type": "markdown",
   "metadata": {},
   "source": [
    "### AT commands\n",
    "http://www.espressif.com/sites/default/files/documentation/0c-esp-wroom-02_datasheet_en.pdf  \n",
    "http://www.espressif.com/sites/default/files/documentation/4b-esp8266_at_command_examples_en.pdf"
   ]
  }
 ],
 "metadata": {
  "anaconda-cloud": {},
  "kernelspec": {
   "display_name": "Python [default]",
   "language": "python",
   "name": "python3"
  },
  "language_info": {
   "codemirror_mode": {
    "name": "ipython",
    "version": 3
   },
   "file_extension": ".py",
   "mimetype": "text/x-python",
   "name": "python",
   "nbconvert_exporter": "python",
   "pygments_lexer": "ipython3",
   "version": "3.5.1"
  }
 },
 "nbformat": 4,
 "nbformat_minor": 0
}
